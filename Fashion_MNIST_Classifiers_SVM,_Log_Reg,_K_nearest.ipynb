{
  "nbformat": 4,
  "nbformat_minor": 0,
  "metadata": {
    "colab": {
      "name": "Fashion MNIST- Classifiers- SVM, Log Reg, K-nearest.ipynb",
      "provenance": [],
      "collapsed_sections": []
    },
    "kernelspec": {
      "name": "python3",
      "display_name": "Python 3"
    }
  },
  "cells": [
    {
      "cell_type": "code",
      "metadata": {
        "id": "dBZidcz0rAmS"
      },
      "source": [
        "%matplotlib inline\n",
        "import numpy as np\n",
        "import matplotlib.pyplot as plt"
      ],
      "execution_count": null,
      "outputs": []
    },
    {
      "cell_type": "code",
      "metadata": {
        "id": "Mm3e6gilrid1",
        "colab": {
          "base_uri": "https://localhost:8080/",
          "height": 151
        },
        "outputId": "7514b062-6083-41ba-e29b-c85831a1f765"
      },
      "source": [
        "import tensorflow as tf\n",
        "from tensorflow import keras\n",
        "fashion_mnist = keras.datasets.fashion_mnist\n",
        "(train_images, train_labels),(test_images, test_labels) = fashion_mnist.load_data()"
      ],
      "execution_count": null,
      "outputs": [
        {
          "output_type": "stream",
          "text": [
            "Downloading data from https://storage.googleapis.com/tensorflow/tf-keras-datasets/train-labels-idx1-ubyte.gz\n",
            "32768/29515 [=================================] - 0s 0us/step\n",
            "Downloading data from https://storage.googleapis.com/tensorflow/tf-keras-datasets/train-images-idx3-ubyte.gz\n",
            "26427392/26421880 [==============================] - 0s 0us/step\n",
            "Downloading data from https://storage.googleapis.com/tensorflow/tf-keras-datasets/t10k-labels-idx1-ubyte.gz\n",
            "8192/5148 [===============================================] - 0s 0us/step\n",
            "Downloading data from https://storage.googleapis.com/tensorflow/tf-keras-datasets/t10k-images-idx3-ubyte.gz\n",
            "4423680/4422102 [==============================] - 0s 0us/step\n"
          ],
          "name": "stdout"
        }
      ]
    },
    {
      "cell_type": "code",
      "metadata": {
        "id": "hdNgqlCQrjF0",
        "colab": {
          "base_uri": "https://localhost:8080/",
          "height": 98
        },
        "outputId": "b9f66a7f-8c5d-48a4-f847-c3cab26882bc"
      },
      "source": [
        "plt.figure(figsize=(10,4))\n",
        "classes=[]\n",
        "for k in np.arange(0,10):\n",
        "  ind= np.where(train_labels==k)\n",
        "  classes.append(ind[0][0])\n",
        "for index in np.arange(len(classes)):\n",
        "  plt.subplot(1,10,index+1)\n",
        "  plt.imshow(train_images[classes[index]].squeeze(),cmap=plt.cm.gray)\n"
      ],
      "execution_count": null,
      "outputs": [
        {
          "output_type": "display_data",
          "data": {
            "image/png": "[encoded data removed]",
            "text/plain": [
              "<Figure size 720x288 with 10 Axes>"
            ]
          },
          "metadata": {
            "tags": []
          }
        }
      ]
    },
    {
      "cell_type": "code",
      "metadata": {
        "id": "fRBPteeVrnr_",
        "colab": {
          "base_uri": "https://localhost:8080/",
          "height": 84
        },
        "outputId": "d757fdfb-e24c-4629-8854-69a3aed5de73"
      },
      "source": [
        "from sklearn.neighbors import KNeighborsClassifier\n",
        "knc=KNeighborsClassifier(n_neighbors=10)\n",
        "train_images=train_images[0:10000]\n",
        "train_labels=train_labels[0:10000]\n",
        "test_images=test_images[0:1000]\n",
        "test_labels=test_labels[0:1000]\n",
        "%time knc.fit(train_images.reshape(10000,784),train_labels)\n",
        "\n",
        "%time score=knc.score(test_images.reshape(1000,784),test_labels[0:1000])\n"
      ],
      "execution_count": null,
      "outputs": [
        {
          "output_type": "stream",
          "text": [
            "CPU times: user 984 ms, sys: 36.8 ms, total: 1.02 s\n",
            "Wall time: 1.03 s\n",
            "CPU times: user 18.8 s, sys: 3.67 ms, total: 18.8 s\n",
            "Wall time: 18.9 s\n"
          ],
          "name": "stdout"
        }
      ]
    },
    {
      "cell_type": "code",
      "metadata": {
        "id": "Vu0fp4IhsrUP",
        "colab": {
          "base_uri": "https://localhost:8080/",
          "height": 34
        },
        "outputId": "e8bfac2f-03f4-41a8-bf24-23b29eed8cb7"
      },
      "source": [
        "print(\"Score for K-nearest neighbour is\",score*100,\"%\")"
      ],
      "execution_count": null,
      "outputs": [
        {
          "output_type": "stream",
          "text": [
            "Score for Kn is 83.1 %\n"
          ],
          "name": "stdout"
        }
      ]
    },
    {
      "cell_type": "code",
      "metadata": {
        "id": "z8ujkRt7s21P",
        "colab": {
          "base_uri": "https://localhost:8080/",
          "height": 101
        },
        "outputId": "af44c63a-8116-41b8-970a-723127435333"
      },
      "source": [
        "from sklearn.linear_model import LogisticRegression\n",
        "from sklearn.preprocessing import StandardScaler\n",
        "sc = StandardScaler()\n",
        "train_images=sc.fit_transform(train_images.reshape(10000,784))\n",
        "test_images = sc.fit_transform(test_images.reshape(1000,784))\n",
        "log_reg=LogisticRegression(solver='saga',max_iter=1000, tol=0.01, C=0.1)\n",
        "%time log_reg.fit(train_images,train_labels)\n",
        "%time score=log_reg.score(test_images,test_labels[0:1000])\n"
      ],
      "execution_count": null,
      "outputs": [
        {
          "output_type": "stream",
          "text": [
            "CPU times: user 16.9 s, sys: 0 ns, total: 16.9 s\n",
            "Wall time: 17 s\n",
            "CPU times: user 2.81 ms, sys: 3.84 ms, total: 6.65 ms\n",
            "Wall time: 3.98 ms\n",
            "Score for Logistic Regression is 84.1 %\n"
          ],
          "name": "stdout"
        }
      ]
    },
    {
      "cell_type": "code",
      "metadata": {
        "id": "Cr-HOs0JvRyX",
        "colab": {
          "base_uri": "https://localhost:8080/",
          "height": 34
        },
        "outputId": "f136ffe0-0101-4e48-f462-37c4d80c03bb"
      },
      "source": [
        "print(\"Score for Logistic Regression is\",score*100,\"%\")"
      ],
      "execution_count": null,
      "outputs": [
        {
          "output_type": "stream",
          "text": [
            "Score for Logistic Regression is 84.1 %\n"
          ],
          "name": "stdout"
        }
      ]
    },
    {
      "cell_type": "code",
      "metadata": {
        "id": "UPsorWOeu6bS",
        "colab": {
          "base_uri": "https://localhost:8080/",
          "height": 84
        },
        "outputId": "4f2da06b-50b7-4a2a-c85e-cfbec19183e7"
      },
      "source": [
        "from sklearn import svm\n",
        "svc = svm.SVC(probability=False,kernel=\"linear\",C=0.5,gamma='auto',tol=0.01)\n",
        "%time svc.fit(train_images,train_labels)\n",
        "%time scsvm=svc.score(test_images,test_labels[0:1000])"
      ],
      "execution_count": null,
      "outputs": [
        {
          "output_type": "stream",
          "text": [
            "CPU times: user 27.8 s, sys: 6.9 ms, total: 27.8 s\n",
            "Wall time: 27.9 s\n",
            "CPU times: user 4.75 s, sys: 1 µs, total: 4.75 s\n",
            "Wall time: 4.77 s\n"
          ],
          "name": "stdout"
        }
      ]
    },
    {
      "cell_type": "code",
      "metadata": {
        "id": "BiUHxOrjvUQJ",
        "colab": {
          "base_uri": "https://localhost:8080/",
          "height": 34
        },
        "outputId": "69c0b10f-0e26-4bf6-e4d9-b0b12dfd651e"
      },
      "source": [
        "print(\"Score for Linear kernel -svm is\",scsvm*100,\"%\")"
      ],
      "execution_count": null,
      "outputs": [
        {
          "output_type": "stream",
          "text": [
            "Score for Linear kernel -svm is 81.6 %\n"
          ],
          "name": "stdout"
        }
      ]
    },
    {
      "cell_type": "code",
      "metadata": {
        "id": "pKl5HDNmvCvb",
        "colab": {
          "base_uri": "https://localhost:8080/",
          "height": 84
        },
        "outputId": "0cdd7c88-c60e-46b5-b980-aa83a7f85f8f"
      },
      "source": [
        "svc = svm.SVC(probability=False,kernel=\"rbf\",C=0.5,gamma='auto',tol=0.001)\n",
        "%time svc.fit(train_images,train_labels)\n",
        "%time scrb=svc.score(test_images,test_labels[0:1000])"
      ],
      "execution_count": null,
      "outputs": [
        {
          "output_type": "stream",
          "text": [
            "CPU times: user 44.7 s, sys: 8.75 ms, total: 44.7 s\n",
            "Wall time: 44.9 s\n",
            "CPU times: user 7.21 s, sys: 0 ns, total: 7.21 s\n",
            "Wall time: 7.24 s\n"
          ],
          "name": "stdout"
        }
      ]
    },
    {
      "cell_type": "code",
      "metadata": {
        "id": "sbR3KNlhvmt5",
        "colab": {
          "base_uri": "https://localhost:8080/",
          "height": 34
        },
        "outputId": "c990198a-97fa-4409-f45c-e917ef69065e"
      },
      "source": [
        "print(\"Score for svm rbf kernel is\",scrb*100,\"%\")"
      ],
      "execution_count": null,
      "outputs": [
        {
          "output_type": "stream",
          "text": [
            "Score for svm rbf kernel is 85.0 %\n"
          ],
          "name": "stdout"
        }
      ]
    },
    {
      "cell_type": "code",
      "metadata": {
        "id": "YQ4sSWXNvuxo",
        "colab": {
          "base_uri": "https://localhost:8080/",
          "height": 136
        },
        "outputId": "61b0e787-f6b0-45fa-c798-0587f6682583"
      },
      "source": [
        "import pandas as pd\n",
        "\n",
        "table={'KNN':{'Train Time': '1.03 s', 'Pred Time':'18.9 s', 'Accuracy':'83.1%'}}\n",
        "table['Logistic Regression']={'Train Time': '17 s', 'Pred Time':'3.98 ms', 'Accuracy':'84%'}\n",
        "table['SVM-Linear']={'Train Time': '27.9 s', 'Pred Time':'4.77 s', 'Accuracy':'81.6%'}\n",
        "table['SVM-rbf']={'Train Time': '44.9 s', 'Pred Time':'7.24 s', 'Accuracy':'85%'}\n",
        "pd.DataFrame(table)"
      ],
      "execution_count": null,
      "outputs": [
        {
          "output_type": "execute_result",
          "data": {
            "text/html": [
              "<div>\n",
              "<style scoped>\n",
              "    .dataframe tbody tr th:only-of-type {\n",
              "        vertical-align: middle;\n",
              "    }\n",
              "\n",
              "    .dataframe tbody tr th {\n",
              "        vertical-align: top;\n",
              "    }\n",
              "\n",
              "    .dataframe thead th {\n",
              "        text-align: right;\n",
              "    }\n",
              "</style>\n",
              "<table border=\"1\" class=\"dataframe\">\n",
              "  <thead>\n",
              "    <tr style=\"text-align: right;\">\n",
              "      <th></th>\n",
              "      <th>KNN</th>\n",
              "      <th>Logistic Regression</th>\n",
              "      <th>SVM-Linear</th>\n",
              "      <th>SVM-rbf</th>\n",
              "    </tr>\n",
              "  </thead>\n",
              "  <tbody>\n",
              "    <tr>\n",
              "      <th>Train Time</th>\n",
              "      <td>1.03 s</td>\n",
              "      <td>17 s</td>\n",
              "      <td>27.9 s</td>\n",
              "      <td>44.9 s</td>\n",
              "    </tr>\n",
              "    <tr>\n",
              "      <th>Pred Time</th>\n",
              "      <td>18.9 s</td>\n",
              "      <td>3.98 ms</td>\n",
              "      <td>4.77 s</td>\n",
              "      <td>7.24 s</td>\n",
              "    </tr>\n",
              "    <tr>\n",
              "      <th>Accuracy</th>\n",
              "      <td>83.1%</td>\n",
              "      <td>84%</td>\n",
              "      <td>81.6%</td>\n",
              "      <td>85%</td>\n",
              "    </tr>\n",
              "  </tbody>\n",
              "</table>\n",
              "</div>"
            ],
            "text/plain": [
              "               KNN Logistic Regression SVM-Linear SVM-rbf\n",
              "Train Time  1.03 s                17 s     27.9 s  44.9 s\n",
              "Pred Time   18.9 s             3.98 ms     4.77 s  7.24 s\n",
              "Accuracy     83.1%                 84%      81.6%     85%"
            ]
          },
          "metadata": {
            "tags": []
          },
          "execution_count": 31
        }
      ]
    },
    {
      "cell_type": "code",
      "metadata": {
        "id": "pe8Pu2GBxqAb",
        "colab": {
          "base_uri": "https://localhost:8080/",
          "height": 34
        },
        "outputId": "8345980b-ceae-4b65-b111-c57241a3158e"
      },
      "source": [
        "print(\"The differences in accuracy are minimal, but in terms of training time, KNN is the least, but the prediction time for logistic regression is the least\")"
      ],
      "execution_count": null,
      "outputs": [
        {
          "output_type": "stream",
          "text": [
            "The differences in accuracy are minimal, but in terms of training time, KNN is the least, but the prediction time for logistic regression is the least\n"
          ],
          "name": "stdout"
        }
      ]
    },
    {
      "cell_type": "code",
      "metadata": {
        "id": "wG3q_TEPxwrW"
      },
      "source": [
        ""
      ],
      "execution_count": null,
      "outputs": []
    }
  ]
}