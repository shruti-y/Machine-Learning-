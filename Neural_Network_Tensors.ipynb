{
  "nbformat": 4,
  "nbformat_minor": 0,
  "metadata": {
    "kernelspec": {
      "display_name": "Python 3",
      "language": "python",
      "name": "python3"
    },
    "language_info": {
      "codemirror_mode": {
        "name": "ipython",
        "version": 3
      },
      "file_extension": ".py",
      "mimetype": "text/x-python",
      "name": "python",
      "nbconvert_exporter": "python",
      "pygments_lexer": "ipython3",
      "version": "3.7.6"
    },
    "colab": {
      "name": "Neural Network- Tensors.ipynb",
      "provenance": [],
      "collapsed_sections": []
    }
  },
  "cells": [
    {
      "cell_type": "markdown",
      "metadata": {
        "id": "xkrmOL1HeW-C"
      },
      "source": [
        "# Neural network - (ResNet34) "
      ]
    },
    {
      "cell_type": "code",
      "metadata": {
        "id": "_P0t8ndWeW-E"
      },
      "source": [
        "import numpy as np\n",
        "import torchvision\n",
        "from torchvision import datasets, models, transforms\n",
        "import matplotlib.pyplot as plt\n",
        "import time\n",
        "import os\n",
        "import copy\n",
        "\n",
        "import torch\n",
        "import torch.nn as nn\n",
        "\n",
        "import torch.optim as optim\n",
        "from torch.optim import lr_scheduler"
      ],
      "execution_count": null,
      "outputs": []
    },
    {
      "cell_type": "markdown",
      "metadata": {
        "id": "mfSXTNrweW-O"
      },
      "source": [
        "First we preprocess our data by Normalizing and generate data loaders."
      ]
    },
    {
      "cell_type": "code",
      "metadata": {
        "id": "7FGePlnGeW-Q"
      },
      "source": [
        "data_transforms = {\n",
        "    'train': transforms.Compose([\n",
        "        transforms.RandomResizedCrop(224),\n",
        "        transforms.RandomHorizontalFlip(),\n",
        "        transforms.ToTensor(),\n",
        "        transforms.Normalize([0.485, 0.456, 0.406], [0.229, 0.224, 0.225])\n",
        "    ]),\n",
        "    'val': transforms.Compose([\n",
        "        transforms.Resize(256),\n",
        "        transforms.CenterCrop(224),\n",
        "        transforms.ToTensor(),\n",
        "        transforms.Normalize([0.485, 0.456, 0.406], [0.229, 0.224, 0.225])\n",
        "    ]),\n",
        "}\n",
        "\n",
        "data_dir = 'data'\n",
        "image_datasets = {x: datasets.ImageFolder(os.path.join(data_dir, x), data_transforms[x])\n",
        "                  for x in ['train', 'val']}\n",
        "dataloaders = {x: torch.utils.data.DataLoader(image_datasets[x], batch_size=4, shuffle=True, num_workers=4)\n",
        "              for x in ['train', 'val']}\n",
        "dataset_sizes = {x: len(image_datasets[x]) for x in ['train', 'val']}\n",
        "class_names = image_datasets['train'].classes\n",
        "\n",
        "device = torch.device(\"cuda:0\" if torch.cuda.is_available() else \"cpu\")\n",
        "model = models.resnet34(pretrained=True)"
      ],
      "execution_count": null,
      "outputs": []
    },
    {
      "cell_type": "markdown",
      "metadata": {
        "id": "QcbWFHvueW-V"
      },
      "source": [
        "Training of the NN"
      ]
    },
    {
      "cell_type": "code",
      "metadata": {
        "id": "FGJW97XveW-W"
      },
      "source": [
        "def train_model(model, criterion, optimizer, scheduler, num_epochs=25):\n",
        "    since = time.time()\n",
        "\n",
        "    best_model_wts = copy.deepcopy(model.state_dict())\n",
        "    best_acc = 0.0\n",
        "    train_history = []\n",
        "    validation_history = []\n",
        "\n",
        "    for epoch in range(num_epochs):\n",
        "        print('Epoch {}/{}'.format(epoch, num_epochs - 1))\n",
        "        print('-' * 10)\n",
        "\n",
        "        # For each iteration- training and validation phase\n",
        "        for phase in ['train', 'val']:\n",
        "            if phase == 'train':\n",
        "                model.train()  # Set model to training mode\n",
        "            else:\n",
        "                model.eval()   # Set model to evaluate mode\n",
        "\n",
        "            running_loss = 0.0\n",
        "            running_corrects = 0\n",
        "\n",
        "            # Iterate over data.\n",
        "            for inputs, labels in dataloaders[phase]:\n",
        "                inputs = inputs.to(device)\n",
        "                labels = labels.to(device)\n",
        "\n",
        "                # zero the parameter gradients\n",
        "                optimizer.zero_grad()\n",
        "\n",
        "                # forward pass\n",
        "                # if train: hist\n",
        "                with torch.set_grad_enabled(phase == 'train'):\n",
        "                    outputs = model(inputs)\n",
        "                    _, preds = torch.max(outputs, 1)\n",
        "                    loss = criterion(outputs, labels)\n",
        "\n",
        "                    # backward pass \n",
        "                    #if train: optimize\n",
        "                    if phase == 'train':\n",
        "                        loss.backward()\n",
        "                        optimizer.step()\n",
        "\n",
        "                \n",
        "                running_loss += loss.item() * inputs.size(0)\n",
        "                running_corrects += torch.sum(preds == labels.data)\n",
        "            if phase == 'train':\n",
        "                scheduler.step()\n",
        "\n",
        "            epoch_loss = running_loss / dataset_sizes[phase]\n",
        "            epoch_acc = running_corrects.double() / dataset_sizes[phase]\n",
        "\n",
        "            print('{} Loss: {:.4f} Acc: {:.4f}'.format(phase, epoch_loss, epoch_acc))\n",
        "            if phase == 'train':\n",
        "                train_history.append(epoch_loss)\n",
        "            else:\n",
        "                validation_history.append(epoch_loss) \n",
        "                \n",
        "                \n",
        "           \n",
        "            if phase == 'val' and epoch_acc > best_acc:\n",
        "                best_acc = epoch_acc\n",
        "                best_model_wts = copy.deepcopy(model.state_dict())\n",
        "\n",
        "        print()\n",
        "\n",
        "    time_elapsed = time.time() - since\n",
        "    print('Training complete in {:.0f}m {:.0f}s'.format(\n",
        "        time_elapsed // 60, time_elapsed % 60))\n",
        "    print('Best val Acc: {:4f}'.format(best_acc))\n",
        "\n",
        "    # load best model weights\n",
        "    model.load_state_dict(best_model_wts)\n",
        "    return model,train_history,validation_history"
      ],
      "execution_count": null,
      "outputs": []
    },
    {
      "cell_type": "markdown",
      "metadata": {
        "id": "ugYvDlZIeW-e"
      },
      "source": [
        "Defining our hyperparameters and setting optimizer as stochastic gradient descent."
      ]
    },
    {
      "cell_type": "code",
      "metadata": {
        "id": "S_c6g689eW-f"
      },
      "source": [
        "ftrs = model.fc.in_features\n",
        "model.fc = nn.Linear(ftrs, 2)\n",
        "model = model.to(device)\n",
        "criterion = nn.CrossEntropyLoss()\n",
        "optimizer_ft = optim.SGD(model.parameters(), lr=0.001, momentum=0.9)\n",
        "exp_lr_scheduler = lr_scheduler.StepLR(optimizer_ft, step_size=7, gamma=0.1)"
      ],
      "execution_count": null,
      "outputs": []
    },
    {
      "cell_type": "code",
      "metadata": {
        "id": "cyYoCfjZeW-j",
        "outputId": "21ad2076-cdb1-45da-8a64-ea0d9f3d4ad7"
      },
      "source": [
        "model_ft,t,v = train_model(model, criterion, optimizer_ft, exp_lr_scheduler,num_epochs=20)"
      ],
      "execution_count": null,
      "outputs": [
        {
          "output_type": "stream",
          "text": [
            "Epoch 0/19\n",
            "----------\n",
            "train Loss: 0.5688 Acc: 0.7000\n",
            "val Loss: 0.1014 Acc: 1.0000\n",
            "\n",
            "Epoch 1/19\n",
            "----------\n",
            "train Loss: 0.5115 Acc: 0.7833\n",
            "val Loss: 0.0277 Acc: 1.0000\n",
            "\n",
            "Epoch 2/19\n",
            "----------\n",
            "train Loss: 0.4801 Acc: 0.7667\n",
            "val Loss: 0.1336 Acc: 0.9167\n",
            "\n",
            "Epoch 3/19\n",
            "----------\n",
            "train Loss: 0.4469 Acc: 0.8333\n",
            "val Loss: 0.0092 Acc: 1.0000\n",
            "\n",
            "Epoch 4/19\n",
            "----------\n",
            "train Loss: 0.2432 Acc: 0.8833\n",
            "val Loss: 0.0315 Acc: 1.0000\n",
            "\n",
            "Epoch 5/19\n",
            "----------\n",
            "train Loss: 0.3563 Acc: 0.8667\n",
            "val Loss: 0.0082 Acc: 1.0000\n",
            "\n",
            "Epoch 6/19\n",
            "----------\n",
            "train Loss: 0.5225 Acc: 0.7667\n",
            "val Loss: 0.0709 Acc: 1.0000\n",
            "\n",
            "Epoch 7/19\n",
            "----------\n",
            "train Loss: 0.4353 Acc: 0.8667\n",
            "val Loss: 0.0471 Acc: 1.0000\n",
            "\n",
            "Epoch 8/19\n",
            "----------\n",
            "train Loss: 0.2055 Acc: 0.9500\n",
            "val Loss: 0.0154 Acc: 1.0000\n",
            "\n",
            "Epoch 9/19\n",
            "----------\n",
            "train Loss: 0.2851 Acc: 0.8833\n",
            "val Loss: 0.0046 Acc: 1.0000\n",
            "\n",
            "Epoch 10/19\n",
            "----------\n",
            "train Loss: 0.1706 Acc: 0.9167\n",
            "val Loss: 0.0065 Acc: 1.0000\n",
            "\n",
            "Epoch 11/19\n",
            "----------\n",
            "train Loss: 0.1815 Acc: 0.9000\n",
            "val Loss: 0.0049 Acc: 1.0000\n",
            "\n",
            "Epoch 12/19\n",
            "----------\n",
            "train Loss: 0.3201 Acc: 0.8333\n",
            "val Loss: 0.0051 Acc: 1.0000\n",
            "\n",
            "Epoch 13/19\n",
            "----------\n",
            "train Loss: 0.2501 Acc: 0.9000\n",
            "val Loss: 0.0069 Acc: 1.0000\n",
            "\n",
            "Epoch 14/19\n",
            "----------\n",
            "train Loss: 0.1392 Acc: 0.9333\n",
            "val Loss: 0.0069 Acc: 1.0000\n",
            "\n",
            "Epoch 15/19\n",
            "----------\n",
            "train Loss: 0.2661 Acc: 0.8667\n",
            "val Loss: 0.0072 Acc: 1.0000\n",
            "\n",
            "Epoch 16/19\n",
            "----------\n",
            "train Loss: 0.2235 Acc: 0.9000\n",
            "val Loss: 0.0063 Acc: 1.0000\n",
            "\n",
            "Epoch 17/19\n",
            "----------\n",
            "train Loss: 0.1876 Acc: 0.9333\n",
            "val Loss: 0.0067 Acc: 1.0000\n",
            "\n",
            "Epoch 18/19\n",
            "----------\n",
            "train Loss: 0.2585 Acc: 0.8667\n",
            "val Loss: 0.0062 Acc: 1.0000\n",
            "\n",
            "Epoch 19/19\n",
            "----------\n",
            "train Loss: 0.1354 Acc: 0.9333\n",
            "val Loss: 0.0075 Acc: 1.0000\n",
            "\n",
            "Training complete in 8m 41s\n",
            "Best val Acc: 1.000000\n"
          ],
          "name": "stdout"
        }
      ]
    },
    {
      "cell_type": "markdown",
      "metadata": {
        "id": "w7f60_NMeW-o"
      },
      "source": [
        "**Final Validation Accuracy : 100%**\n",
        "\n",
        "**Final Training Accuracy : 93.33%**"
      ]
    },
    {
      "cell_type": "code",
      "metadata": {
        "id": "83tUZl5NeW-q",
        "outputId": "fa23cf4c-bd2e-4ca1-fa8b-3a5e3a253e6a"
      },
      "source": [
        "epochs=[i for i in range(20)]\n",
        "plt.xlabel(\"Epochs\")\n",
        "plt.ylabel(\"Training Loss\")\n",
        "plt.plot(epochs,t)"
      ],
      "execution_count": null,
      "outputs": [
        {
          "output_type": "execute_result",
          "data": {
            "text/plain": [
              "[<matplotlib.lines.Line2D at 0x13264bb90>]"
            ]
          },
          "metadata": {
            "tags": []
          },
          "execution_count": 17
        },
        {
          "output_type": "display_data",
          "data": {
            "image/png": "[encoded data removed]",
            "text/plain": [
              "<Figure size 432x288 with 1 Axes>"
            ]
          },
          "metadata": {
            "tags": [],
            "needs_background": "light"
          }
        }
      ]
    },
    {
      "cell_type": "code",
      "metadata": {
        "id": "wtkthnxEeW-v",
        "outputId": "85fb6b57-dd8f-4803-e825-398ea5037531"
      },
      "source": [
        "epochs=[i for i in range(20)]\n",
        "plt.xlabel(\"Epochs\")\n",
        "plt.ylabel(\"Training Loss\")\n",
        "plt.plot(epochs,v)"
      ],
      "execution_count": null,
      "outputs": [
        {
          "output_type": "execute_result",
          "data": {
            "text/plain": [
              "[<matplotlib.lines.Line2D at 0x1326b7350>]"
            ]
          },
          "metadata": {
            "tags": []
          },
          "execution_count": 18
        },
        {
          "output_type": "display_data",
          "data": {
            "image/png": "[encoded data removed]",
            "text/plain": [
              "<Figure size 432x288 with 1 Axes>"
            ]
          },
          "metadata": {
            "tags": [],
            "needs_background": "light"
          }
        }
      ]
    }
  ]
}